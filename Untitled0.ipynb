{
  "nbformat": 4,
  "nbformat_minor": 0,
  "metadata": {
    "colab": {
      "provenance": [],
      "authorship_tag": "ABX9TyMlc2WxsPbyWB1rhu7oVlvJ",
      "include_colab_link": true
    },
    "kernelspec": {
      "name": "python3",
      "display_name": "Python 3"
    },
    "language_info": {
      "name": "python"
    }
  },
  "cells": [
    {
      "cell_type": "markdown",
      "metadata": {
        "id": "view-in-github",
        "colab_type": "text"
      },
      "source": [
        "<a href=\"https://colab.research.google.com/github/PotlapelliHarshita/project1-data-scraping/blob/main/Untitled0.ipynb\" target=\"_parent\"><img src=\"https://colab.research.google.com/assets/colab-badge.svg\" alt=\"Open In Colab\"/></a>"
      ]
    },
    {
      "cell_type": "code",
      "execution_count": null,
      "metadata": {
        "colab": {
          "base_uri": "https://localhost:8080/"
        },
        "id": "sdAwMvClHq0B",
        "outputId": "9b87ca79-7f52-48cd-8875-95bfe4c7f29f"
      },
      "outputs": [
        {
          "output_type": "stream",
          "name": "stdout",
          "text": [
            "Data scraped and saved to results.csv\n"
          ]
        }
      ],
      "source": [
        "import os\n",
        "import pandas as pd\n",
        "from bs4 import BeautifulSoup\n",
        "\n",
        "def scrape_result_data(html_file):\n",
        "    \"\"\"Scrapes CGPA and SGPA values from a given HTML file.\n",
        "\n",
        "    Args:\n",
        "        html_file (str): Path to the HTML file.\n",
        "\n",
        "    Returns:\n",
        "        tuple: Tuple containing CGPA and SGPA values.\n",
        "    \"\"\"\n",
        "\n",
        "    with open(html_file, 'r') as f:\n",
        "        soup = BeautifulSoup(f.read(), 'html.parser')\n",
        "    cgpa_element = soup.find('div', class_='cgpa')\n",
        "    sgpa_element = soup.find('div', class_='sgpa')\n",
        "\n",
        "    if cgpa_element and sgpa_element:\n",
        "        cgpa = cgpa_element.text.strip()\n",
        "        sgpa = sgpa_element.text.strip()\n",
        "        return (cgpa, sgpa)\n",
        "    else:\n",
        "        return None\n",
        "\n",
        "def scrape_all_results(folder_path):\n",
        "    \"\"\"Scrapes CGPA and SGPA values from all HTML files in a given folder.\n",
        "\n",
        "    Args:\n",
        "        folder_path (str): Path to the folder containing HTML files.\n",
        "\n",
        "    Returns:\n",
        "        list: List of tuples containing file names, CGPA, and SGPA values.\n",
        "    \"\"\"\n",
        "\n",
        "    results_data = []\n",
        "    for root, dirs, files in os.walk(folder_path):\n",
        "        for file in files:\n",
        "            if file.endswith('.html'):\n",
        "                file_path = os.path.join(root, file)\n",
        "                result = scrape_result_data(file_path)\n",
        "                if result:\n",
        "                    results_data.append((file, result[0], result[1]))\n",
        "    return results_data\n",
        "folder_paths = ['btech', 'bpharma']\n",
        "all_results = []\n",
        "\n",
        "for folder_path in folder_paths:\n",
        "    results = scrape_all_results(folder_path)\n",
        "    all_results.extend(results)\n",
        "df = pd.DataFrame(all_results, columns=['File_name', 'cgpa', 'sgpa'])\n",
        "df.to_csv('results.csv', index=False)\n",
        "\n",
        "print('Data scraped and saved to results.csv')\n"
      ]
    }
  ]
}