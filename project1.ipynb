{
 "cells": [
  {
   "cell_type": "code",
   "execution_count": 1,
   "id": "47634ac5-0a43-472d-92ab-7f308464955a",
   "metadata": {},
   "outputs": [],
   "source": [
    "from bs4 import BeautifulSoup\n",
    "import pandas as pd\n",
    "import os"
   ]
  },
  {
   "cell_type": "code",
   "execution_count": 23,
   "id": "ef89fd0c-c025-4973-9ead-58b618d33aa7",
   "metadata": {},
   "outputs": [],
   "source": [
    "folder_path = r'C:\\Users\\HARSHITHA\\OneDrive\\Desktop\\btech\\found'"
   ]
  },
  {
   "cell_type": "code",
   "execution_count": 25,
   "id": "81ef0218-1411-4ba3-9520-1126b8fb510e",
   "metadata": {},
   "outputs": [
    {
     "ename": "SyntaxError",
     "evalue": "invalid syntax (438717028.py, line 32)",
     "output_type": "error",
     "traceback": [
      "\u001b[1;36m  Cell \u001b[1;32mIn[25], line 32\u001b[1;36m\u001b[0m\n\u001b[1;33m    print(f\"Data extraction complete. Results saved to '{output_path}'.\")results = []\u001b[0m\n\u001b[1;37m                                                                         ^\u001b[0m\n\u001b[1;31mSyntaxError\u001b[0m\u001b[1;31m:\u001b[0m invalid syntax\n"
     ]
    }
   ],
   "source": [
    "results = []\n",
    "for filename in os.listdir(folder_path):\n",
    "    if filename.endswith('.html'):\n",
    "        file_path = os.path.join(folder_path, filename)\n",
    "        with open(file_path, 'r', encoding='utf-8') as file:\n",
    "            soup = BeautifulSoup(file, 'html.parser')\n",
    "            sgpa = None\n",
    "            cgpa = None\n",
    "        \n",
    "        div_1  = soup.find(\"div\",{\"class\" : \"cont_outer\"})\n",
    "        if div_1:\n",
    "            table = div_1.find(\"table\", {\"class\": \"cont_DIV_UN\"})\n",
    "            if table:\n",
    "                div_2 = div_1.find(\"div\",{\"id\": \"midd_part_UN\"})\n",
    "                if div_2:\n",
    "                    table_2 = div_2.find(\"table\")\n",
    "                    if table_2:\n",
    "                        td_all = table_2.findAll(\"td\", {\"class\": \"border1\"})\n",
    "                        if len(td_all) >= 6:\n",
    "                            sgpa = td_all[-6].text.replace('SGPA', \"\").strip()\n",
    "                            if len(td_all) >= 4:\n",
    "                                cgpa = td_all[-4].text.replace('CGPA', \"\").strip()\n",
    "        results.append({\n",
    "            \"file_name\" : filename,\n",
    "            \"sgpa\" : sgpa,\n",
    "            \"cgpa\" : cgpa,\n",
    "        })\n",
    "            \n",
    "df = pd.DataFrame(results)\n",
    "output_path = 'btech_output.csv'\n",
    "df.to_csv(output_path, index= False)\n",
    "print(f\"Data extraction complete. Results saved to '{output_path}'.\")results = []\n"
   ]
  },
  {
   "cell_type": "code",
   "execution_count": null,
   "id": "323e0b48-649e-4d8c-9f4e-5c4ced055193",
   "metadata": {},
   "outputs": [],
   "source": [
    "results = []\n",
    "for filename in os.listdir(folder_path):\n",
    "    if filename.endswith('.html'):\n",
    "        file_path = os.path.join(folder_path, filename)\n",
    "        with open(file_path, 'r', encoding='utf-8') as file:\n",
    "            soup = BeautifulSoup(file, 'html.parser')\n",
    "            sgpa = None\n",
    "            cgpa = None\n",
    "        \n",
    "        div_1  = soup.find(\"div\",{\"class\" : \"cont_outer\"})\n",
    "        if div_1:\n",
    "            table = div_1.find(\"table\", {\"class\": \"cont_DIV_UN\"})\n",
    "            if table:\n",
    "                div_2 = div_1.find(\"div\",{\"id\": \"midd_part_UN\"})\n",
    "                if div_2:\n",
    "                    table_2 = div_2.find(\"table\")\n",
    "                    if table_2:\n",
    "                        td_all = table_2.findAll(\"td\", {\"class\": \"border1\"})\n",
    "                        if len(td_all) >= 6:\n",
    "                            sgpa = td_all[-6].text.replace('SGPA', \"\").strip()\n",
    "                            if len(td_all) >= 4:\n",
    "                                cgpa = td_all[-4].text.replace('CGPA', \"\").strip()\n",
    "        results.append({\n",
    "            \"file_name\" : filename,\n",
    "            \"sgpa\" : sgpa,\n",
    "            \"cgpa\" : cgpa,\n",
    "        })\n",
    "            \n",
    "df = pd.DataFrame(results)\n",
    "output_path = 'btech_output.csv'\n",
    "df.to_csv(output_path, index= False)\n",
    "print(f\"Data extraction complete. Results saved to '{output_path}'.\")"
   ]
  },
  {
   "cell_type": "code",
   "execution_count": null,
   "id": "48c32d11-3f43-488d-aad2-80a242fb40eb",
   "metadata": {},
   "outputs": [],
   "source": []
  },
  {
   "cell_type": "code",
   "execution_count": null,
   "id": "02f95f14-c924-4bf4-ac5b-6d3ebccd148e",
   "metadata": {},
   "outputs": [],
   "source": []
  }
 ],
 "metadata": {
  "kernelspec": {
   "display_name": "Python 3 (ipykernel)",
   "language": "python",
   "name": "python3"
  },
  "language_info": {
   "codemirror_mode": {
    "name": "ipython",
    "version": 3
   },
   "file_extension": ".py",
   "mimetype": "text/x-python",
   "name": "python",
   "nbconvert_exporter": "python",
   "pygments_lexer": "ipython3",
   "version": "3.12.4"
  }
 },
 "nbformat": 4,
 "nbformat_minor": 5
}
